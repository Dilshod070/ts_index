{
 "cells": [
  {
   "cell_type": "code",
   "execution_count": 3,
   "metadata": {},
   "outputs": [
    {
     "data": {
      "text/plain": [
       "'/anaconda3/envs/py27/bin/python'"
      ]
     },
     "execution_count": 3,
     "metadata": {},
     "output_type": "execute_result"
    }
   ],
   "source": [
    "# -*- coding: utf-8 -*-  \n",
    "# Опыты так сказать с:\n",
    "sys.executable"
   ]
  },
  {
   "cell_type": "code",
   "execution_count": 4,
   "metadata": {},
   "outputs": [],
   "source": [
    "import sys\n",
    "import os\n",
    "import numpy as np\n",
    "import doc2words\n",
    "import docreader\n",
    "from struct import pack, unpack, calcsize\n",
    "from hashlib import md5, algorithms\n",
    "from indexer import Indexer\n",
    "\n",
    "from compress import Varbyte, Simple9, MurmurHash2"
   ]
  },
  {
   "cell_type": "code",
   "execution_count": 2,
   "metadata": {},
   "outputs": [
    {
     "data": {
      "text/plain": [
       "['./dataset/lenta.ru_159b9f4b-972b-48b1-8ec3-44fbd6be33c4_01.gz',\n",
       " './dataset/lenta.ru_4deb864d-3c46-45e6-85f4-a7ff7544a3fb_01.gz',\n",
       " './dataset/lenta.ru_6398c7e2-16da-40d2-8923-95f65aaaeb07_01.gz',\n",
       " './dataset/lenta.ru_80e74243-83da-4367-8ae3-fe38d333f283_01.gz',\n",
       " './dataset/lenta.ru_aa5a1ef9-6ca4-4dc7-890f-308d4d62db59_01.gz',\n",
       " './dataset/lenta.ru_b6838708-1aa9-496f-bf88-e277374f93a8_01.gz',\n",
       " './dataset/lenta.ru_b81aa623-ba55-43dc-b3c5-47ae2253ad27_01.gz',\n",
       " './dataset/lenta.ru_d1f7e910-b5f1-4719-b724-090093e143fe_01.gz']"
      ]
     },
     "execution_count": 2,
     "metadata": {},
     "output_type": "execute_result"
    }
   ],
   "source": [
    "DATA_PATH = './dataset'\n",
    "FILES = os.listdir(DATA_PATH)\n",
    "FILES = [DATA_PATH + '/' + _file for _file in sorted(FILES)]\n",
    "FILES"
   ]
  },
  {
   "cell_type": "code",
   "execution_count": 599,
   "metadata": {},
   "outputs": [],
   "source": [
    "reader = docreader.DocumentStreamReader(FILES[:1])"
   ]
  },
  {
   "cell_type": "code",
   "execution_count": 5,
   "metadata": {},
   "outputs": [],
   "source": [
    "indx = Indexer()"
   ]
  },
  {
   "cell_type": "code",
   "execution_count": 609,
   "metadata": {},
   "outputs": [],
   "source": [
    "indx.make_dict(reader)"
   ]
  },
  {
   "cell_type": "code",
   "execution_count": 610,
   "metadata": {},
   "outputs": [],
   "source": [
    "indx.compress()\n",
    "indx.save()"
   ]
  },
  {
   "cell_type": "code",
   "execution_count": null,
   "metadata": {},
   "outputs": [],
   "source": [
    "indx.read()"
   ]
  },
  {
   "cell_type": "code",
   "execution_count": null,
   "metadata": {},
   "outputs": [],
   "source": []
  },
  {
   "cell_type": "code",
   "execution_count": null,
   "metadata": {},
   "outputs": [],
   "source": []
  },
  {
   "cell_type": "code",
   "execution_count": null,
   "metadata": {},
   "outputs": [],
   "source": []
  },
  {
   "cell_type": "code",
   "execution_count": null,
   "metadata": {},
   "outputs": [],
   "source": []
  },
  {
   "cell_type": "code",
   "execution_count": null,
   "metadata": {},
   "outputs": [],
   "source": [
    "4283413"
   ]
  },
  {
   "cell_type": "code",
   "execution_count": 27,
   "metadata": {},
   "outputs": [
    {
     "data": {
      "text/plain": [
       "1305939258"
      ]
     },
     "execution_count": 27,
     "metadata": {},
     "output_type": "execute_result"
    }
   ],
   "source": [
    "1305939258 % (2**32)"
   ]
  },
  {
   "cell_type": "code",
   "execution_count": 29,
   "metadata": {},
   "outputs": [
    {
     "data": {
      "text/plain": [
       "[17, 4283413, 4283462, 4286792, 4286855]"
      ]
     },
     "execution_count": 29,
     "metadata": {},
     "output_type": "execute_result"
    }
   ],
   "source": [
    "[17, 4283413, 4283462, 4286792, 4286855]"
   ]
  },
  {
   "cell_type": "code",
   "execution_count": 31,
   "metadata": {},
   "outputs": [],
   "source": [
    "_put = [8,   36,   97,  114,  149,  188,  200,  202,  218,  224,  251,  267,  272,  292,\n",
    "  306,  316,  325,  349,  395,  448,  479,  483,  507,  517,  518,  567,  582,  585,\n",
    "  617,  643,  657,  677,  726,  728,  732,  735,  742,  805,  808,  816,  882,  906,\n",
    "  923,  984, 1084, 1098, 1158, 1193, 1213, 1216, 1270]"
   ]
  },
  {
   "cell_type": "code",
   "execution_count": 42,
   "metadata": {},
   "outputs": [
    {
     "name": "stdout",
     "output_type": "stream",
     "text": [
      "52\n"
     ]
    },
    {
     "data": {
      "text/plain": [
       "array([   8,   36,   97,  114,  149,  188,  200,  202,  218,  224,  251,\n",
       "        267,  272,  292,  306,  316,  325,  349,  395,  448,  479,  483,\n",
       "        507,  517,  518,  567,  582,  585,  617,  643,  657,  677,  726,\n",
       "        728,  732,  735,  742,  805,  808,  816,  882,  906,  923,  984,\n",
       "       1084, 1098, 1158, 1193, 1213, 1216, 1270])"
      ]
     },
     "execution_count": 42,
     "metadata": {},
     "output_type": "execute_result"
    }
   ],
   "source": [
    "s9 = Simple9(save_deltas=True)\n",
    "_pack = s9.pack(_put)\n",
    "# print list('%s' % bin(_pack[i]) for i in range(_pack.shape[0]))\n",
    "print _pack.shape[0] * 4\n",
    "s9.unpack(_pack)"
   ]
  },
  {
   "cell_type": "code",
   "execution_count": null,
   "metadata": {},
   "outputs": [],
   "source": []
  }
 ],
 "metadata": {
  "kernelspec": {
   "display_name": "Python 2",
   "language": "python",
   "name": "python2"
  },
  "language_info": {
   "codemirror_mode": {
    "name": "ipython",
    "version": 2
   },
   "file_extension": ".py",
   "mimetype": "text/x-python",
   "name": "python",
   "nbconvert_exporter": "python",
   "pygments_lexer": "ipython2",
   "version": "2.7.16"
  }
 },
 "nbformat": 4,
 "nbformat_minor": 2
}
